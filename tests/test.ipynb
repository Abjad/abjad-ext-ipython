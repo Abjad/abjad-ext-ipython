{
 "cells": [
  {
   "cell_type": "code",
   "execution_count": 1,
   "metadata": {},
   "outputs": [
    {
     "name": "stdout",
     "output_type": "stream",
     "text": [
      "NOTE: The Pärt demo requires abjad-ext-tonality\n"
     ]
    }
   ],
   "source": [
    "import abjad"
   ]
  },
  {
   "cell_type": "code",
   "execution_count": 2,
   "metadata": {},
   "outputs": [],
   "source": [
    "%load_ext abjadext.ipython"
   ]
  },
  {
   "cell_type": "code",
   "execution_count": 3,
   "metadata": {},
   "outputs": [],
   "source": [
    "staff = abjad.Staff(\"c'4 d'4 e'4 f'4\")"
   ]
  },
  {
   "cell_type": "code",
   "execution_count": 4,
   "metadata": {},
   "outputs": [
    {
     "data": {
      "image/svg+xml": [
       "<svg xmlns=\"http://www.w3.org/2000/svg\" xmlns:xlink=\"http://www.w3.org/1999/xlink\" version=\"1.2\" width=\"37.14mm\" height=\"12.92mm\" viewBox=\"8.5358 -0.0360 21.1357 7.3500\">\n",
       "<style text=\"style/css\">\n",
       "<![CDATA[\n",
       "tspan { white-space: pre; }\n",
       "]]>\n",
       "</style>\n",
       "<line transform=\"translate(8.5358, 5.7640)\" stroke-linejoin=\"round\" stroke-linecap=\"round\" stroke-width=\"0.1000\" stroke=\"currentColor\" x1=\"0.0500\" y1=\"-0.0000\" x2=\"21.0857\" y2=\"-0.0000\"/>\n",
       "<line transform=\"translate(8.5358, 4.7640)\" stroke-linejoin=\"round\" stroke-linecap=\"round\" stroke-width=\"0.1000\" stroke=\"currentColor\" x1=\"0.0500\" y1=\"-0.0000\" x2=\"21.0857\" y2=\"-0.0000\"/>\n",
       "<line transform=\"translate(8.5358, 3.7640)\" stroke-linejoin=\"round\" stroke-linecap=\"round\" stroke-width=\"0.1000\" stroke=\"currentColor\" x1=\"0.0500\" y1=\"-0.0000\" x2=\"21.0857\" y2=\"-0.0000\"/>\n",
       "<line transform=\"translate(8.5358, 2.7640)\" stroke-linejoin=\"round\" stroke-linecap=\"round\" stroke-width=\"0.1000\" stroke=\"currentColor\" x1=\"0.0500\" y1=\"-0.0000\" x2=\"21.0857\" y2=\"-0.0000\"/>\n",
       "<line transform=\"translate(8.5358, 1.7640)\" stroke-linejoin=\"round\" stroke-linecap=\"round\" stroke-width=\"0.1000\" stroke=\"currentColor\" x1=\"0.0500\" y1=\"-0.0000\" x2=\"21.0857\" y2=\"-0.0000\"/>\n",
       "<rect transform=\"translate(0.0000, 6.7640)\" x=\"16.9098\" y=\"-0.1000\" width=\"1.9563\" height=\"0.2000\" ry=\"0.1000\" fill=\"currentColor\"/>\n",
       "<rect transform=\"translate(29.4816, 3.7640)\" x=\"0.0000\" y=\"-2.0000\" width=\"0.1900\" height=\"4.0000\" ry=\"0.0000\" fill=\"currentColor\"/>\n",
       "<path transform=\"translate(20.2381, 6.2640) scale(0.0040, -0.0040)\" d=\"M218 136c55 0 108 -28 108 -89c0 -71 -55 -121 -102 -149c-35 -21 -75 -34 -116 -34c-55 0 -108 28 -108 89c0 71 55 121 102 149c35 21 75 34 116 34z\" fill=\"currentColor\"/>\n",
       "<rect transform=\"translate(21.4773, 3.7640)\" x=\"-0.0650\" y=\"-1.0000\" width=\"0.1300\" height=\"3.3139\" ry=\"0.0400\" fill=\"currentColor\"/>\n",
       "<rect transform=\"translate(24.4795, 3.7640)\" x=\"-0.0650\" y=\"-1.5000\" width=\"0.1300\" height=\"3.3139\" ry=\"0.0400\" fill=\"currentColor\"/>\n",
       "<path transform=\"translate(26.2426, 5.2640) scale(0.0040, -0.0040)\" d=\"M218 136c55 0 108 -28 108 -89c0 -71 -55 -121 -102 -149c-35 -21 -75 -34 -116 -34c-55 0 -108 28 -108 89c0 71 55 121 102 149c35 21 75 34 116 34z\" fill=\"currentColor\"/>\n",
       "<rect transform=\"translate(27.4818, 3.7640)\" x=\"-0.0650\" y=\"-2.0000\" width=\"0.1300\" height=\"3.3139\" ry=\"0.0400\" fill=\"currentColor\"/>\n",
       "<path transform=\"translate(23.2403, 5.7640) scale(0.0040, -0.0040)\" d=\"M218 136c55 0 108 -28 108 -89c0 -71 -55 -121 -102 -149c-35 -21 -75 -34 -116 -34c-55 0 -108 28 -108 89c0 71 55 121 102 149c35 21 75 34 116 34z\" fill=\"currentColor\"/>\n",
       "<path transform=\"translate(17.2358, 6.7640) scale(0.0040, -0.0040)\" d=\"M218 136c55 0 108 -28 108 -89c0 -71 -55 -121 -102 -149c-35 -21 -75 -34 -116 -34c-55 0 -108 28 -108 89c0 71 55 121 102 149c35 21 75 34 116 34z\" fill=\"currentColor\"/>\n",
       "<path transform=\"translate(9.3358, 4.7640) scale(0.0040, -0.0040)\" d=\"M266 -635h-6c-108 0 -195 88 -195 197c0 58 53 103 112 103c54 0 95 -47 95 -103c0 -52 -43 -95 -95 -95c-11 0 -21 2 -31 6c26 -39 68 -65 117 -65h4zM461 -203c68 24 113 95 113 164c0 90 -66 179 -173 190c24 -116 46 -231 60 -354zM74 28c0 -135 129 -247 264 -247\n",
       "c28 0 55 2 82 6c-14 127 -37 245 -63 364c-79 -8 -124 -61 -124 -119c0 -44 25 -91 81 -123c5 -5 7 -10 7 -15c0 -11 -10 -22 -22 -22c-3 0 -6 1 -9 2c-80 43 -117 115 -117 185c0 88 58 174 160 197c-14 58 -29 117 -46 175c-107 -121 -213 -243 -213 -403zM335 -262\n",
       "c-188 0 -333 172 -333 374c0 177 131 306 248 441c-19 62 -37 125 -45 190c-6 52 -7 104 -7 156c0 115 55 224 149 292c6 5 14 5 20 0c71 -84 133 -245 133 -358c0 -143 -86 -255 -180 -364c21 -68 39 -138 56 -207c4 0 9 1 13 1c155 0 256 -128 256 -261\n",
       "c0 -76 -33 -154 -107 -210c-22 -17 -47 -28 -73 -36c3 -35 5 -70 5 -105c0 -19 -1 -39 -2 -58c-7 -119 -88 -225 -202 -228l1 43c93 2 153 92 159 191c1 18 2 37 2 55c0 31 -1 61 -4 92c-29 -5 -58 -8 -89 -8zM428 916c0 55 -4 79 -20 129c-99 -48 -162 -149 -162 -259\n",
       "c0 -74 18 -133 36 -194c80 97 146 198 146 324z\" fill=\"currentColor\"/>\n",
       "<path transform=\"translate(13.5358, 3.7640) scale(0.0040, -0.0040)\" d=\"M359 27c-49 0 -75 42 -75 75c0 38 27 77 72 77c4 0 9 0 14 -1c-28 37 -72 59 -120 59c-106 0 -113 -73 -113 -186v-51v-51c0 -113 7 -187 113 -187c80 0 139 70 158 151c2 7 7 10 12 10c6 0 13 -4 13 -12c0 -94 -105 -174 -183 -174c-68 0 -137 21 -184 70\n",
       "c-49 51 -66 122 -66 193s17 142 66 193c47 49 116 69 184 69c87 0 160 -63 175 -149c1 -5 1 -10 1 -14c0 -40 -30 -72 -67 -72z\" fill=\"currentColor\"/>\n",
       "<rect transform=\"translate(18.4750, 3.7640)\" x=\"-0.0650\" y=\"-0.5000\" width=\"0.1300\" height=\"3.3139\" ry=\"0.0400\" fill=\"currentColor\"/>\n",
       "</svg>\n"
      ]
     },
     "metadata": {},
     "output_type": "display_data"
    }
   ],
   "source": [
    "abjad.show(staff)"
   ]
  },
  {
   "cell_type": "code",
   "execution_count": 5,
   "metadata": {},
   "outputs": [
    {
     "data": {
      "image/svg+xml": [
       "<?xml version=\"1.0\" encoding=\"UTF-8\" standalone=\"no\"?>\n",
       "<!DOCTYPE svg PUBLIC \"-//W3C//DTD SVG 1.1//EN\"\n",
       " \"http://www.w3.org/Graphics/SVG/1.1/DTD/svg11.dtd\">\n",
       "<!-- Generated by graphviz version 2.44.0 (20200408.0750)\n",
       " -->\n",
       "<!-- Title: G Pages: 1 -->\n",
       "<svg width=\"282pt\" height=\"153pt\"\n",
       " viewBox=\"0.00 0.00 282.00 153.00\" xmlns=\"http://www.w3.org/2000/svg\" xmlns:xlink=\"http://www.w3.org/1999/xlink\">\n",
       "<g id=\"graph0\" class=\"graph\" transform=\"scale(1 1) rotate(0) translate(4 149)\">\n",
       "<title>G</title>\n",
       "<polygon fill=\"white\" stroke=\"transparent\" points=\"-4,4 -4,-149 278,-149 278,4 -4,4\"/>\n",
       "<!-- Staff_0 -->\n",
       "<g id=\"node1\" class=\"node\">\n",
       "<title>Staff_0</title>\n",
       "<text text-anchor=\"start\" x=\"122.5\" y=\"-120.3\" font-family=\"Arial\" font-size=\"14.00\">Staff</text>\n",
       "<polygon fill=\"none\" stroke=\"black\" stroke-width=\"2\" points=\"114.5,-109 114.5,-140 158.5,-140 158.5,-109 114.5,-109\"/>\n",
       "</g>\n",
       "<!-- Note_0 -->\n",
       "<g id=\"node2\" class=\"node\">\n",
       "<title>Note_0</title>\n",
       "<text text-anchor=\"start\" x=\"13.5\" y=\"-43.8\" font-family=\"Arial\" font-size=\"14.00\">Note</text>\n",
       "<text text-anchor=\"start\" x=\"19\" y=\"-16.8\" font-family=\"Arial\" font-size=\"14.00\">c&#39;4</text>\n",
       "<polygon fill=\"black\" stroke=\"black\" points=\"4.5,-34 4.5,-34 51.5,-34 51.5,-34 4.5,-34\"/>\n",
       "<polygon fill=\"none\" stroke=\"black\" stroke-width=\"2\" points=\"5,-5 5,-63 50,-63 50,-5 5,-5\"/>\n",
       "</g>\n",
       "<!-- Staff_0&#45;&gt;Note_0 -->\n",
       "<g id=\"edge1\" class=\"edge\">\n",
       "<title>Staff_0&#45;&gt;Note_0</title>\n",
       "<path fill=\"none\" stroke=\"black\" d=\"M109.34,-103.78C95.4,-93.43 78.28,-80.35 63.5,-68 63.33,-67.86 63.16,-67.71 62.99,-67.57\"/>\n",
       "<polygon fill=\"black\" stroke=\"black\" points=\"65.04,-64.72 55.18,-60.84 60.47,-70.02 65.04,-64.72\"/>\n",
       "</g>\n",
       "<!-- Note_1 -->\n",
       "<g id=\"node3\" class=\"node\">\n",
       "<title>Note_1</title>\n",
       "<text text-anchor=\"start\" x=\"86.5\" y=\"-43.8\" font-family=\"Arial\" font-size=\"14.00\">Note</text>\n",
       "<text text-anchor=\"start\" x=\"91.5\" y=\"-16.8\" font-family=\"Arial\" font-size=\"14.00\">d&#39;4</text>\n",
       "<polygon fill=\"black\" stroke=\"black\" points=\"77.5,-34 77.5,-34 124.5,-34 124.5,-34 77.5,-34\"/>\n",
       "<polygon fill=\"none\" stroke=\"black\" stroke-width=\"2\" points=\"78,-5 78,-63 123,-63 123,-5 78,-5\"/>\n",
       "</g>\n",
       "<!-- Staff_0&#45;&gt;Note_1 -->\n",
       "<g id=\"edge2\" class=\"edge\">\n",
       "<title>Staff_0&#45;&gt;Note_1</title>\n",
       "<path fill=\"none\" stroke=\"black\" d=\"M128.51,-103.86C125.34,-96.07 121.57,-86.8 117.83,-77.62\"/>\n",
       "<polygon fill=\"black\" stroke=\"black\" points=\"120.99,-76.09 113.98,-68.15 114.51,-78.73 120.99,-76.09\"/>\n",
       "</g>\n",
       "<!-- Note_2 -->\n",
       "<g id=\"node4\" class=\"node\">\n",
       "<title>Note_2</title>\n",
       "<text text-anchor=\"start\" x=\"159.5\" y=\"-43.8\" font-family=\"Arial\" font-size=\"14.00\">Note</text>\n",
       "<text text-anchor=\"start\" x=\"164.5\" y=\"-16.8\" font-family=\"Arial\" font-size=\"14.00\">e&#39;4</text>\n",
       "<polygon fill=\"black\" stroke=\"black\" points=\"150.5,-34 150.5,-34 197.5,-34 197.5,-34 150.5,-34\"/>\n",
       "<polygon fill=\"none\" stroke=\"black\" stroke-width=\"2\" points=\"151,-5 151,-63 196,-63 196,-5 151,-5\"/>\n",
       "</g>\n",
       "<!-- Staff_0&#45;&gt;Note_2 -->\n",
       "<g id=\"edge3\" class=\"edge\">\n",
       "<title>Staff_0&#45;&gt;Note_2</title>\n",
       "<path fill=\"none\" stroke=\"black\" d=\"M144.71,-103.86C147.97,-96.07 151.84,-86.8 155.68,-77.62\"/>\n",
       "<polygon fill=\"black\" stroke=\"black\" points=\"159.01,-78.72 159.64,-68.15 152.56,-76.02 159.01,-78.72\"/>\n",
       "</g>\n",
       "<!-- Note_3 -->\n",
       "<g id=\"node5\" class=\"node\">\n",
       "<title>Note_3</title>\n",
       "<text text-anchor=\"start\" x=\"232.5\" y=\"-43.8\" font-family=\"Arial\" font-size=\"14.00\">Note</text>\n",
       "<text text-anchor=\"start\" x=\"239.5\" y=\"-16.8\" font-family=\"Arial\" font-size=\"14.00\">f&#39;4</text>\n",
       "<polygon fill=\"black\" stroke=\"black\" points=\"223.5,-34 223.5,-34 270.5,-34 270.5,-34 223.5,-34\"/>\n",
       "<polygon fill=\"none\" stroke=\"black\" stroke-width=\"2\" points=\"224,-5 224,-63 269,-63 269,-5 224,-5\"/>\n",
       "</g>\n",
       "<!-- Staff_0&#45;&gt;Note_3 -->\n",
       "<g id=\"edge4\" class=\"edge\">\n",
       "<title>Staff_0&#45;&gt;Note_3</title>\n",
       "<path fill=\"none\" stroke=\"black\" d=\"M163.71,-104.08C177.91,-93.7 195.42,-80.51 210.5,-68 210.67,-67.86 210.84,-67.72 211.01,-67.57\"/>\n",
       "<polygon fill=\"black\" stroke=\"black\" points=\"213.53,-70.03 218.83,-60.86 208.97,-64.72 213.53,-70.03\"/>\n",
       "</g>\n",
       "</g>\n",
       "</svg>\n"
      ]
     },
     "metadata": {},
     "output_type": "display_data"
    }
   ],
   "source": [
    "abjad.graph(staff)"
   ]
  },
  {
   "cell_type": "code",
   "execution_count": 6,
   "metadata": {},
   "outputs": [],
   "source": [
    "abjad.play(staff)"
   ]
  }
 ],
 "metadata": {
  "kernelspec": {
   "display_name": "Python 3",
   "language": "python",
   "name": "python3"
  },
  "language_info": {
   "codemirror_mode": {
    "name": "ipython",
    "version": 3
   },
   "file_extension": ".py",
   "mimetype": "text/x-python",
   "name": "python",
   "nbconvert_exporter": "python",
   "pygments_lexer": "ipython3",
   "version": "3.8.2"
  }
 },
 "nbformat": 4,
 "nbformat_minor": 1
}
